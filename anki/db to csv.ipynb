{
 "cells": [
  {
   "cell_type": "code",
   "execution_count": 98,
   "metadata": {},
   "outputs": [],
   "source": [
    "# setup\n",
    "import sqlite3\n",
    "import csv\n",
    "import os"
   ]
  },
  {
   "cell_type": "code",
   "execution_count": 116,
   "metadata": {},
   "outputs": [],
   "source": [
    "def get_cards(db_file, table_name, col1, col2):\n",
    "    '''\n",
    "    read db rows into csv rows\n",
    "    \n",
    "    Arguments:\n",
    "        db - .db file to read original data from\n",
    "    \n",
    "    Returns:\n",
    "        cards - list of lists, each containing a row from the db\n",
    "    '''\n",
    "    fronts = []\n",
    "    backs = []\n",
    "    cards = []\n",
    "    \n",
    "    conn = sqlite3.connect(db_file)\n",
    "    c = conn.cursor()\n",
    "    f = \"asdf\"\n",
    "    # i'm selecting from a table with the card front and back as columns\n",
    "    c.execute(\"SELECT %s, %s FROM %s\" % (col1, col2, table_name))\n",
    "    result = c.fetchall()\n",
    "    \n",
    "    for card in result:\n",
    "        cards.append([card[0], card[1]])\n",
    "    return cards\n",
    "\n",
    "def write_cards(csv_file, operation = 'w'):\n",
    "    '''\n",
    "    write to csv file\n",
    "    \n",
    "    Arguments:\n",
    "        csv_file - the file to write to\n",
    "        operation - write(w) or append(a)\n",
    "    Return:\n",
    "        void\n",
    "    '''\n",
    "    with open(csv_file, operation) as file:\n",
    "        writer = csv.writer(file)\n",
    "        writer.writerows(cards)"
   ]
  },
  {
   "cell_type": "code",
   "execution_count": 119,
   "metadata": {},
   "outputs": [],
   "source": [
    "# get cards\n",
    "file = \"***.db\"\n",
    "cards = get_cards(file, 'cards', 'front', 'back')\n",
    "\n",
    "# write cards\n",
    "write_cards('***.csv', 'w')"
   ]
  }
 ],
 "metadata": {
  "kernelspec": {
   "display_name": "Python 3",
   "language": "python",
   "name": "python3"
  },
  "language_info": {
   "codemirror_mode": {
    "name": "ipython",
    "version": 3
   },
   "file_extension": ".py",
   "mimetype": "text/x-python",
   "name": "python",
   "nbconvert_exporter": "python",
   "pygments_lexer": "ipython3",
   "version": "3.6.2"
  }
 },
 "nbformat": 4,
 "nbformat_minor": 2
}
