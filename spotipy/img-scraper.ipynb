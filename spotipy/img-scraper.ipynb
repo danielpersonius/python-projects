{
 "cells": [
  {
   "cell_type": "markdown",
   "metadata": {},
   "source": [
    "# image scrape\n"
   ]
  },
  {
   "cell_type": "code",
   "execution_count": null,
   "metadata": {
    "collapsed": true
   },
   "outputs": [],
   "source": [
    "import spotipy\n",
    "import spotipy.util as util\n",
    "import os\n",
    "import sys\n",
    "import pprint\n",
    "import string\n",
    "import traceback\n",
    "import urllib.request as req"
   ]
  },
  {
   "cell_type": "code",
   "execution_count": null,
   "metadata": {},
   "outputs": [],
   "source": [
    "SPOTIPY_CLIENT_ID     = 'client-id'\n",
    "SPOTIPY_CLIENT_SECRET = 'client-secret'\n",
    "SPOTIPY_REDIRECT_URI  = 'redirect-url'\n",
    "my_username = \"my-username\"\n",
    "os.environ['SPOTIPY_CLIENT_ID']     = SPOTIPY_CLIENT_ID\n",
    "os.environ['SPOTIPY_CLIENT_SECRET'] = SPOTIPY_CLIENT_SECRET\n",
    "os.environ['SPOTIPY_REDIRECT_URI']  = SPOTIPY_REDIRECT_URI\n",
    "\n",
    "# permissions\n",
    "my_scope = 'user-library-read user-follow-read playlist-read-collaborative playlist-read-private playlist-modify-private playlist-modify-public'\n",
    "\n",
    "token = util.prompt_for_user_token(\n",
    "        username=my_username,\n",
    "        scope=my_scope,\n",
    "        client_id=SPOTIPY_CLIENT_ID,\n",
    "        client_secret=SPOTIPY_CLIENT_SECRET,\n",
    "        redirect_uri=SPOTIPY_REDIRECT_URI)"
   ]
  },
  {
   "cell_type": "code",
   "execution_count": null,
   "metadata": {
    "collapsed": true
   },
   "outputs": [],
   "source": [
    "def get_all_playlists(spot):\n",
    "    '''\n",
    "    Get all the user's playlists\n",
    "    \n",
    "    Arguments:\n",
    "        spot - spotipy object\n",
    "        \n",
    "    Returns:\n",
    "        list - all user's playlists\n",
    "    '''\n",
    "    results = spot.current_user_playlists()\n",
    "    all_playlists = results['items']\n",
    "    while results['next']:\n",
    "        results = spot.next(results)\n",
    "        all_playlists.extend(results['items'])\n",
    "    return all_playlists\n",
    "\n",
    "def get_playlist_id(playlist, playlists):\n",
    "    '''\n",
    "    given a list of dictionaries of playlist attributes, check if user specified playlist exists\n",
    "    \n",
    "    Arguments:\n",
    "        playlist - string, name of playlist to search for\n",
    "        playlists - list of possible playlists\n",
    "    \n",
    "    Returns:\n",
    "        int     - index in list of playlists where desired playlist found. -1 if not found \n",
    "    '''\n",
    "    for i in range(0, len(playlists)):\n",
    "        if playlists[i]['name'] == playlist:\n",
    "            return playlists[i]['id']\n",
    "    return None\n",
    "\n",
    "def get_playlist_tracks(spot, user_id, playlist_id):\n",
    "    '''\n",
    "    '''\n",
    "    results = spot.user_playlist_tracks(user_id, playlist_id)\n",
    "    tracks = results['items']\n",
    "    while results['next']:\n",
    "        results = spot.next(results)\n",
    "        tracks.extend(results['items'])\n",
    "    return tracks\n",
    "\n",
    "def get_artwork_url(track):\n",
    "    '''\n",
    "    '''\n",
    "    # weed out local tracks\n",
    "    if track['track'][\"is_local\"] is not True:\n",
    "        return track['track']['album']['images'][0]['url']\n",
    "    return None\n",
    "\n",
    "def prompt():\n",
    "    '''\n",
    "    '''\n",
    "    return input(\"Which playlist would you like album art from?\\n\")"
   ]
  },
  {
   "cell_type": "code",
   "execution_count": null,
   "metadata": {},
   "outputs": [],
   "source": [
    "if token: \n",
    "    sp = spotipy.Spotify(auth=token)\n",
    "    sp.trace = False\n",
    "    \n",
    "    plist    = None\n",
    "    plist_id = None\n",
    "    user_id = (sp.me())['id']\n",
    "    all_playlists = get_all_playlists(sp)\n",
    "    \n",
    "    while plist is None:\n",
    "        plist = prompt()\n",
    "        plist_id = get_playlist_id(plist, all_playlists)\n",
    "    \n",
    "    plist_tracks = get_playlist_tracks(sp, user_id, plist_id)\n",
    "    \n",
    "    destination_path = os.getcwd() + \"/\" + plist + \"-artwork\"\n",
    "    if not os.path.exists(destination_path) or not os.path.isdir(destination_path):\n",
    "        os.mkdir(destination_path)\n",
    "        print(\"directory %s created\" % destination_path)\n",
    "else:\n",
    "    print(\"fuck ur tkn\")"
   ]
  },
  {
   "cell_type": "code",
   "execution_count": null,
   "metadata": {
    "scrolled": false
   },
   "outputs": [],
   "source": [
    "albums = set()\n",
    "for track in plist_tracks:\n",
    "    filename = track['track']['artists'][0]['name'] + \"-\" + track['track']['album']['name']\n",
    "    try:\n",
    "        if track is not None:\n",
    "            url = get_artwork_url(track)\n",
    "    except:\n",
    "        print(\"Missing or no artwork for %s\" % filename)\n",
    "        pass\n",
    "    albums.add((filename, url))\n",
    "for album in albums:\n",
    "    # forward slashes wonk up filenames\n",
    "    album_and_song = album[0].replace(\"/\", \"~\")\n",
    "    file_path = destination_path + \"/\" + album_and_song + \".jpg\"\n",
    "    url = album[1]\n",
    "    try:\n",
    "        req.urlretrieve(url, file_path)\n",
    "    except:\n",
    "        print(\"Could not retrive artwork for '%s'\" % album_and_song)\n",
    "        pass\n",
    "print(\"Done\")"
   ]
  },
  {
   "cell_type": "code",
   "execution_count": null,
   "metadata": {
    "collapsed": true
   },
   "outputs": [],
   "source": []
  }
 ],
 "metadata": {
  "kernelspec": {
   "display_name": "Python 3",
   "language": "python",
   "name": "python3"
  },
  "language_info": {
   "codemirror_mode": {
    "name": "ipython",
    "version": 3
   },
   "file_extension": ".py",
   "mimetype": "text/x-python",
   "name": "python",
   "nbconvert_exporter": "python",
   "pygments_lexer": "ipython3",
   "version": "3.6.2"
  }
 },
 "nbformat": 4,
 "nbformat_minor": 2
}
